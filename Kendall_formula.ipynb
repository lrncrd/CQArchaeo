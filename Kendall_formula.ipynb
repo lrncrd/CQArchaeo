{
 "cells": [
  {
   "cell_type": "code",
   "execution_count": 1,
   "id": "6493e657",
   "metadata": {},
   "outputs": [],
   "source": [
    "import pandas as pd\n",
    "from matplotlib import pyplot as plt\n",
    "import numpy as np\n",
    "import math\n",
    "from scipy import stats\n",
    "import seaborn as sns"
   ]
  },
  {
   "cell_type": "code",
   "execution_count": 2,
   "id": "72d8cc3a",
   "metadata": {},
   "outputs": [],
   "source": [
    "db=pd.read_excel('OR_3_4.xlsx')\n",
    "\n",
    "min_data_sample = 7\n",
    "max_data_sample = 200\n",
    "min_quantum = 4\n",
    "max_quantum = 24\n",
    "step = 0.02"
   ]
  },
  {
   "cell_type": "code",
   "execution_count": 3,
   "id": "8e2a9485",
   "metadata": {},
   "outputs": [],
   "source": [
    "db_2_analyse = db[(db >= min_data_sample) & (db < max_data_sample)]\n",
    "df=db_2_analyse.dropna()"
   ]
  },
  {
   "cell_type": "code",
   "execution_count": 4,
   "id": "8aa65e93",
   "metadata": {},
   "outputs": [],
   "source": [
    "quanta_arr = np.arange(min_quantum, max_quantum + step, step)\n",
    "quanta = pd.DataFrame({'Quanta_val': quanta_arr})"
   ]
  },
  {
   "cell_type": "markdown",
   "id": "b46e0d1e",
   "metadata": {},
   "source": [
    "**CQA**"
   ]
  },
  {
   "cell_type": "code",
   "execution_count": 5,
   "id": "7e26c1bb",
   "metadata": {},
   "outputs": [
    {
     "name": "stdout",
     "output_type": "stream",
     "text": [
      "               Phi_q_values  quanta\n",
      "Results 4.0        3.136800    4.00\n",
      "Results 4.02       2.728424    4.02\n",
      "Results 4.04       2.459730    4.04\n",
      "Results 4.06       2.406665    4.06\n",
      "Results 4.08       2.046590    4.08\n",
      "...                     ...     ...\n",
      "Results 23.92    -11.025066   23.92\n",
      "Results 23.94    -11.029197   23.94\n",
      "Results 23.96    -11.033863   23.96\n",
      "Results 23.98    -11.039057   23.98\n",
      "Results 24.0     -11.044774   24.00\n",
      "\n",
      "[1001 rows x 2 columns]\n"
     ]
    }
   ],
   "source": [
    "reminder = pd.DataFrame()\n",
    "cosine_results = pd.DataFrame()\n",
    "phi_q_df = pd.DataFrame()\n",
    "sample_size = df.count()\n",
    "coeff = 2 / sample_size\n",
    "sample_coefficient = np.sqrt(coeff).iloc[0]\n",
    "\n",
    "\n",
    "reminder = pd.concat([df.iloc[:, 0] % q for q in quanta_arr], axis=1)\n",
    "reminder.columns = [round(q, 2) for q in quanta_arr]\n",
    "cosine_results = pd.concat([(2 * math.pi * df.iloc[:, 0]) / q for q in quanta_arr], axis=1)\n",
    "cosine_results.columns = [f'Results {round(q, 2)}' for q in quanta_arr]\n",
    "cosine_results = np.cos(cosine_results)\n",
    "\n",
    "\n",
    "\n",
    "cosine_sum_series = cosine_results.sum(axis=0)\n",
    "cosine_sum = cosine_sum_series.to_frame()\n",
    "\n",
    "phi_q_df = cosine_sum.multiply(sample_coefficient)\n",
    "phi_q_df.columns = ['Phi_q_values']\n",
    "phi_q_df['quanta'] = quanta_arr\n",
    "\n",
    "print(phi_q_df)\n"
   ]
  },
  {
   "cell_type": "code",
   "execution_count": 6,
   "id": "0353572b",
   "metadata": {},
   "outputs": [
    {
     "name": "stdout",
     "output_type": "stream",
     "text": [
      "Highest 'Phi_q_values': 7.595576115477482\n",
      "Corrisponde al quantum: 9.939999999999873\n"
     ]
    }
   ],
   "source": [
    "max_value = phi_q_df['Phi_q_values'].max()\n",
    "quantum_max = phi_q_df.loc[phi_q_df['Phi_q_values'].idxmax(), 'quanta']\n",
    "print(f\"Highest 'Phi_q_values': {max_value}\")\n",
    "print(f\"Corrisponde al quantum: {quantum_max}\")"
   ]
  },
  {
   "cell_type": "markdown",
   "id": "f018dfeb",
   "metadata": {},
   "source": [
    "**Montecarlo**"
   ]
  },
  {
   "cell_type": "code",
   "execution_count": 7,
   "id": "2701d913",
   "metadata": {},
   "outputs": [
    {
     "name": "stdout",
     "output_type": "stream",
     "text": [
      "            MC_1        MC_2        MC_3        MC_4        MC_5        MC_6  \\\n",
      "0     175.832492  192.964105  189.182250  178.288329  179.343668  190.760264   \n",
      "3     142.211287  113.829803  111.412405  132.749363  119.476443  107.479316   \n",
      "4     167.034594  159.648592  211.379000  165.240668  158.455460  166.668996   \n",
      "5      52.871022   58.248392   57.014388   60.072186   52.527687   52.895950   \n",
      "6      23.298507   22.408176   20.146750   19.841033   19.772726   18.742751   \n",
      "...          ...         ...         ...         ...         ...         ...   \n",
      "4047   10.586039    8.884251   10.467149    8.782426    9.654828   10.246327   \n",
      "4061    7.484779    7.908908    7.477253    6.754494    8.519277    8.236208   \n",
      "4063    6.852790    7.096688    7.355952    6.964764    8.994965    6.921171   \n",
      "4064    8.474700    7.718687    6.984407    8.305164    7.202358    7.286117   \n",
      "4075    9.547608   11.920902   11.893652    9.196311    9.895699    9.472419   \n",
      "\n",
      "            MC_7        MC_8        MC_9       MC_10  ...       MC_91  \\\n",
      "0     187.058683  196.573056  191.779953  197.082850  ...  179.153616   \n",
      "3     126.595325  132.744120  128.550720  124.317889  ...  112.391417   \n",
      "4     167.629641  157.788356  177.474309  205.484876  ...  172.816562   \n",
      "5      58.364533   60.890368   56.072281   54.009044  ...   48.824021   \n",
      "6      24.540175   24.146138   22.220144   20.348430  ...   23.919601   \n",
      "...          ...         ...         ...         ...  ...         ...   \n",
      "4047    8.705236    8.718409    8.317271   10.418705  ...    9.214794   \n",
      "4061    8.664037    8.289624    7.613363    6.765871  ...    6.855796   \n",
      "4063    8.553991    7.764144    7.514900    8.967069  ...    9.083109   \n",
      "4064    8.206244    8.408372    7.626702    7.780387  ...    7.968343   \n",
      "4075   11.039567   10.393417   12.063434   10.652097  ...   10.399063   \n",
      "\n",
      "           MC_92       MC_93       MC_94       MC_95       MC_96       MC_97  \\\n",
      "0     200.613705  173.184311  185.572161  184.329777  200.210148  156.439924   \n",
      "3     129.478787  126.716944  128.840835  131.033059  123.003980  133.493727   \n",
      "4     169.365511  184.139827  181.096740  210.851586  162.757244  162.324203   \n",
      "5      45.842609   54.819610   48.691226   47.834363   58.098963   52.537052   \n",
      "6      23.911870   24.301012   19.318289   22.700592   19.256506   21.906341   \n",
      "...          ...         ...         ...         ...         ...         ...   \n",
      "4047   10.733953   10.196208    9.341398   10.078329    8.191719   10.324052   \n",
      "4061    7.561293    6.572543    8.358139    6.944921    7.242509    6.771677   \n",
      "4063    6.878290    7.112698    7.671993    6.937884    7.077706    7.319852   \n",
      "4064    7.325118    7.925943    8.607873    7.162483    8.635517    7.890485   \n",
      "4075   10.000545   11.172316    9.590604   11.588224   11.815304    9.574045   \n",
      "\n",
      "           MC_98       MC_99      MC_100  \n",
      "0     181.400794  199.011941  193.482692  \n",
      "3     116.461376  130.924622  133.012879  \n",
      "4     190.643486  184.713125  177.616998  \n",
      "5      61.059079   51.298333   45.918808  \n",
      "6      18.618762   23.849268   20.297871  \n",
      "...          ...         ...         ...  \n",
      "4047    9.725063    8.374728    8.046375  \n",
      "4061    6.714753    6.735323    6.848573  \n",
      "4063    8.259766    8.632545    9.208214  \n",
      "4064    8.464902    6.956524    7.424324  \n",
      "4075   11.977267   10.517368   11.048737  \n",
      "\n",
      "[2759 rows x 100 columns]\n"
     ]
    }
   ],
   "source": [
    "mc_parameter = 0.15\n",
    "mc_iterations = 100\n",
    "df_copy=df\n",
    "\n",
    "def apply_variation(df_copy, mc_parameter):\n",
    "    percent_diff = df_copy * mc_parameter\n",
    "    random_matrix = np.random.uniform(-1, 1, size=df_copy.shape)\n",
    "    variations = random_matrix * percent_diff\n",
    "    return df_copy + variations\n",
    "\n",
    "final_mc_df = pd.DataFrame()\n",
    "intermediate_dfs = []\n",
    "\n",
    "for i in range(mc_iterations):\n",
    "    df_copy = df.copy()\n",
    "    mc_df = apply_variation(df_copy, mc_parameter)\n",
    "    intermediate_dfs.append(mc_df[df.columns[0]]) \n",
    "    \n",
    "final_mc_df = pd.concat(intermediate_dfs, axis=1)\n",
    "final_mc_df.columns = [f'MC_{i+1}' for i in range(mc_iterations)]\n",
    "\n",
    "\n",
    "print(final_mc_df)"
   ]
  },
  {
   "cell_type": "code",
   "execution_count": 8,
   "id": "9eb5f8c8",
   "metadata": {},
   "outputs": [
    {
     "name": "stdout",
     "output_type": "stream",
     "text": [
      "Column 1/100 completed.\n",
      "Column 2/100 completed.\n",
      "Column 3/100 completed.\n",
      "Column 4/100 completed.\n",
      "Column 5/100 completed.\n",
      "Column 6/100 completed.\n",
      "Column 7/100 completed.\n",
      "Column 8/100 completed.\n",
      "Column 9/100 completed.\n",
      "Column 10/100 completed.\n",
      "Column 11/100 completed.\n",
      "Column 12/100 completed.\n",
      "Column 13/100 completed.\n",
      "Column 14/100 completed.\n",
      "Column 15/100 completed.\n",
      "Column 16/100 completed.\n",
      "Column 17/100 completed.\n",
      "Column 18/100 completed.\n",
      "Column 19/100 completed.\n",
      "Column 20/100 completed.\n",
      "Column 21/100 completed.\n",
      "Column 22/100 completed.\n",
      "Column 23/100 completed.\n",
      "Column 24/100 completed.\n",
      "Column 25/100 completed.\n",
      "Column 26/100 completed.\n",
      "Column 27/100 completed.\n",
      "Column 28/100 completed.\n",
      "Column 29/100 completed.\n",
      "Column 30/100 completed.\n",
      "Column 31/100 completed.\n",
      "Column 32/100 completed.\n",
      "Column 33/100 completed.\n",
      "Column 34/100 completed.\n",
      "Column 35/100 completed.\n",
      "Column 36/100 completed.\n",
      "Column 37/100 completed.\n",
      "Column 38/100 completed.\n",
      "Column 39/100 completed.\n",
      "Column 40/100 completed.\n",
      "Column 41/100 completed.\n",
      "Column 42/100 completed.\n",
      "Column 43/100 completed.\n",
      "Column 44/100 completed.\n",
      "Column 45/100 completed.\n",
      "Column 46/100 completed.\n",
      "Column 47/100 completed.\n",
      "Column 48/100 completed.\n",
      "Column 49/100 completed.\n",
      "Column 50/100 completed.\n",
      "Column 51/100 completed.\n",
      "Column 52/100 completed.\n",
      "Column 53/100 completed.\n",
      "Column 54/100 completed.\n",
      "Column 55/100 completed.\n",
      "Column 56/100 completed.\n",
      "Column 57/100 completed.\n",
      "Column 58/100 completed.\n",
      "Column 59/100 completed.\n",
      "Column 60/100 completed.\n",
      "Column 61/100 completed.\n",
      "Column 62/100 completed.\n",
      "Column 63/100 completed.\n",
      "Column 64/100 completed.\n",
      "Column 65/100 completed.\n",
      "Column 66/100 completed.\n",
      "Column 67/100 completed.\n",
      "Column 68/100 completed.\n",
      "Column 69/100 completed.\n",
      "Column 70/100 completed.\n",
      "Column 71/100 completed.\n",
      "Column 72/100 completed.\n",
      "Column 73/100 completed.\n",
      "Column 74/100 completed.\n",
      "Column 75/100 completed.\n",
      "Column 76/100 completed.\n",
      "Column 77/100 completed.\n",
      "Column 78/100 completed.\n",
      "Column 79/100 completed.\n",
      "Column 80/100 completed.\n",
      "Column 81/100 completed.\n",
      "Column 82/100 completed.\n",
      "Column 83/100 completed.\n",
      "Column 84/100 completed.\n",
      "Column 85/100 completed.\n",
      "Column 86/100 completed.\n",
      "Column 87/100 completed.\n",
      "Column 88/100 completed.\n",
      "Column 89/100 completed.\n",
      "Column 90/100 completed.\n",
      "Column 91/100 completed.\n",
      "Column 92/100 completed.\n",
      "Column 93/100 completed.\n",
      "Column 94/100 completed.\n",
      "Column 95/100 completed.\n",
      "Column 96/100 completed.\n",
      "Column 97/100 completed.\n",
      "Column 98/100 completed.\n",
      "Column 99/100 completed.\n",
      "Column 100/100 completed.\n",
      "              0          1          2          3          4          5   \\\n",
      "4.00    0.241248   2.775763   2.590357   2.318532   2.861331   2.635520   \n",
      "4.02   -0.637830   2.999484   2.194874   1.237164   2.680406   2.377791   \n",
      "4.04   -1.010323   2.614085   1.212857   0.082217   2.233696   2.013130   \n",
      "4.06   -0.362422   2.133887   0.625031  -0.570127   1.606618   1.565115   \n",
      "4.08    0.509078   1.816132   0.638528  -0.565786   0.842353   1.284530   \n",
      "...          ...        ...        ...        ...        ...        ...   \n",
      "23.92 -13.038047 -11.210468 -11.202888 -10.886816 -10.610795 -12.489316   \n",
      "23.94 -13.047007 -11.237950 -11.212895 -10.883740 -10.631921 -12.513032   \n",
      "23.96 -13.055623 -11.265227 -11.223144 -10.880712 -10.653175 -12.536472   \n",
      "23.98 -13.063895 -11.292283 -11.233628 -10.877737 -10.674540 -12.559629   \n",
      "24.00 -13.071827 -11.319102 -11.244340 -10.874820 -10.696000 -12.582494   \n",
      "\n",
      "              6          7          8          9   ...         90         91  \\\n",
      "4.00    2.770853   1.576131  -0.246950   2.166770  ...   1.685016   1.018466   \n",
      "4.02    2.564774   1.561436   0.134784   1.665464  ...   2.068546   0.838487   \n",
      "4.04    1.698268   1.401406   0.678234   0.950196  ...   2.391790   1.027132   \n",
      "4.06    1.169068   1.091966   1.127868   0.439463  ...   2.637263   1.097285   \n",
      "4.08    1.258278   0.704128   1.351707   0.369188  ...   2.767339   0.572640   \n",
      "...          ...        ...        ...        ...  ...        ...        ...   \n",
      "23.92 -11.257934 -12.087507 -11.757508 -11.301865  ... -12.077826 -12.425427   \n",
      "23.94 -11.263052 -12.069698 -11.788791 -11.293600  ... -12.103230 -12.425416   \n",
      "23.96 -11.268689 -12.051540 -11.820265 -11.285026  ... -12.128367 -12.424947   \n",
      "23.98 -11.274853 -12.033045 -11.851897 -11.276148  ... -12.153233 -12.424023   \n",
      "24.00 -11.281552 -12.014227 -11.883656 -11.266969  ... -12.177823 -12.422652   \n",
      "\n",
      "              92         93         94         95         96         97  \\\n",
      "4.00    0.602647   2.110524   2.283691   2.346655   1.817576   1.472116   \n",
      "4.02    0.397256   2.498244   1.814458   1.858681   2.214925   1.039523   \n",
      "4.04    0.520302   2.725454   1.627634   1.706358   2.004382   0.654289   \n",
      "4.06    0.872474   2.629130   1.569554   2.288633   1.663600   0.196546   \n",
      "4.08    1.440741   2.293479   1.428559   3.157662   1.751356  -0.140528   \n",
      "...          ...        ...        ...        ...        ...        ...   \n",
      "23.92 -11.420678 -10.216105 -11.832095 -11.312851 -11.651820 -12.147723   \n",
      "23.94 -11.428755 -10.218700 -11.823298 -11.332441 -11.668964 -12.144675   \n",
      "23.96 -11.436770 -10.221572 -11.814419 -11.351785 -11.685717 -12.140979   \n",
      "23.98 -11.444719 -10.224723 -11.805469 -11.370880 -11.702070 -12.136646   \n",
      "24.00 -11.452599 -10.228152 -11.796454 -11.389721 -11.718019 -12.131689   \n",
      "\n",
      "              98         99  \n",
      "4.00    2.664822  -0.069172  \n",
      "4.02    2.668703   0.195724  \n",
      "4.04    2.407090   0.633888  \n",
      "4.06    1.969408   0.530325  \n",
      "4.08    1.882505   0.033501  \n",
      "...          ...        ...  \n",
      "23.92 -11.430774 -11.116953  \n",
      "23.94 -11.436469 -11.109510  \n",
      "23.96 -11.442420 -11.102011  \n",
      "23.98 -11.448629 -11.094468  \n",
      "24.00 -11.455099 -11.086890  \n",
      "\n",
      "[1001 rows x 100 columns]\n"
     ]
    }
   ],
   "source": [
    "Montecarlo_phi_q = pd.DataFrame()\n",
    "\n",
    "def calculate_Phi_q_values_mc(df, quanta_arr):\n",
    "    Phi_q_values_mc_list = []\n",
    "    \n",
    "    for q in quanta_arr:\n",
    "        reminder_mc = df.iloc[:, 0] % q\n",
    "        cosine_result_mc = np.cos((2 * math.pi * df.iloc[:, 0]) / q)\n",
    "        Phi_q_values_mc = np.sum(cosine_result_mc) * sample_coefficient\n",
    "        Phi_q_values_mc_list.append(Phi_q_values_mc)\n",
    "        \n",
    "    return Phi_q_values_mc_list\n",
    "\n",
    "Montecarlo_phi_q_values = []\n",
    "completed_cols = 0\n",
    "\n",
    "for col in final_mc_df.columns:\n",
    "    df = final_mc_df[[col]]  \n",
    "    Phi_q_values_mc_list = calculate_Phi_q_values_mc(df, quanta_arr)\n",
    "    Montecarlo_phi_q_values.append(Phi_q_values_mc_list)\n",
    "    \n",
    "    completed_cols += 1\n",
    "    print(f\"Column {completed_cols}/{mc_iterations} completed.\")\n",
    "\n",
    "\n",
    "Montecarlo_phi_q = pd.DataFrame(Montecarlo_phi_q_values, columns=quanta_arr).T\n",
    "\n",
    "print(Montecarlo_phi_q)"
   ]
  },
  {
   "cell_type": "code",
   "execution_count": 9,
   "id": "c182fc8d",
   "metadata": {},
   "outputs": [],
   "source": [
    "alpha_1_share = round(mc_iterations * 0.01)\n",
    "alpha_5_share = round(mc_iterations * 0.05)\n",
    "mc_max_column = Montecarlo_phi_q.max()\n",
    "alpha_1 = mc_max_column.nlargest(alpha_1_share).iloc[-1]\n",
    "alpha_5 = mc_max_column.nlargest(alpha_5_share).iloc[-1]"
   ]
  },
  {
   "cell_type": "code",
   "execution_count": 10,
   "id": "7443db90",
   "metadata": {},
   "outputs": [
    {
     "data": {
      "image/png": "[encoded data removed]",
      "text/plain": [
       "<Figure size 576x432 with 1 Axes>"
      ]
     },
     "metadata": {
      "needs_background": "light"
     },
     "output_type": "display_data"
    }
   ],
   "source": [
    "fig, axes = plt.subplots(figsize=(8, 6))\n",
    "\n",
    "sns.lineplot(data=phi_q_df, x=phi_q_df['quanta'], y=phi_q_df['Phi_q_values'], color='black', label='quantogram')\n",
    "plt.axhline(y=alpha_1, color='r', linestyle='--', label='alpha_1', linewidth=1)\n",
    "plt.axhline(y=alpha_5, color='g', linestyle='--', label='alpha_5', linewidth=1)\n",
    "plt.xlim(quanta_arr[0], quanta_arr[-1])\n",
    "plt.xticks([4, 6, 8, 10, 12, 14, 16, 18, 20, 22, 24])\n",
    "plt.yticks([-4, -2, 0, 2, 4, 6])\n",
    "\n",
    "plt.legend()\n",
    "plt.grid(axis='y')\n",
    "\n",
    "plt.show()"
   ]
  },
  {
   "cell_type": "code",
   "execution_count": 11,
   "id": "95328d02",
   "metadata": {},
   "outputs": [
    {
     "data": {
      "text/plain": [
       "5"
      ]
     },
     "execution_count": 11,
     "metadata": {},
     "output_type": "execute_result"
    }
   ],
   "source": [
    "alpha_5_share"
   ]
  },
  {
   "cell_type": "code",
   "execution_count": null,
   "id": "cc569201",
   "metadata": {},
   "outputs": [],
   "source": []
  }
 ],
 "metadata": {
  "kernelspec": {
   "display_name": "Python 3 (ipykernel)",
   "language": "python",
   "name": "python3"
  },
  "language_info": {
   "codemirror_mode": {
    "name": "ipython",
    "version": 3
   },
   "file_extension": ".py",
   "mimetype": "text/x-python",
   "name": "python",
   "nbconvert_exporter": "python",
   "pygments_lexer": "ipython3",
   "version": "3.9.12"
  }
 },
 "nbformat": 4,
 "nbformat_minor": 5
}
